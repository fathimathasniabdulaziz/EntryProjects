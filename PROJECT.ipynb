{
 "cells": [
  {
   "cell_type": "code",
   "execution_count": 1,
   "id": "a879cb4f",
   "metadata": {},
   "outputs": [],
   "source": [
    "import pandas as pd"
   ]
  },
  {
   "cell_type": "code",
   "execution_count": 2,
   "id": "4bcce3b2",
   "metadata": {},
   "outputs": [
    {
     "data": {
      "text/html": [
       "<div>\n",
       "<style scoped>\n",
       "    .dataframe tbody tr th:only-of-type {\n",
       "        vertical-align: middle;\n",
       "    }\n",
       "\n",
       "    .dataframe tbody tr th {\n",
       "        vertical-align: top;\n",
       "    }\n",
       "\n",
       "    .dataframe thead th {\n",
       "        text-align: right;\n",
       "    }\n",
       "</style>\n",
       "<table border=\"1\" class=\"dataframe\">\n",
       "  <thead>\n",
       "    <tr style=\"text-align: right;\">\n",
       "      <th></th>\n",
       "      <th>Name</th>\n",
       "      <th>Team</th>\n",
       "      <th>Number</th>\n",
       "      <th>Position</th>\n",
       "      <th>Age</th>\n",
       "      <th>Height</th>\n",
       "      <th>Weight</th>\n",
       "      <th>College</th>\n",
       "      <th>Salary</th>\n",
       "    </tr>\n",
       "  </thead>\n",
       "  <tbody>\n",
       "    <tr>\n",
       "      <th>0</th>\n",
       "      <td>Avery Bradley</td>\n",
       "      <td>Boston Celtics</td>\n",
       "      <td>0</td>\n",
       "      <td>PG</td>\n",
       "      <td>25</td>\n",
       "      <td>06-Feb</td>\n",
       "      <td>180</td>\n",
       "      <td>Texas</td>\n",
       "      <td>7730337.0</td>\n",
       "    </tr>\n",
       "    <tr>\n",
       "      <th>1</th>\n",
       "      <td>Jae Crowder</td>\n",
       "      <td>Boston Celtics</td>\n",
       "      <td>99</td>\n",
       "      <td>SF</td>\n",
       "      <td>25</td>\n",
       "      <td>06-Jun</td>\n",
       "      <td>235</td>\n",
       "      <td>Marquette</td>\n",
       "      <td>6796117.0</td>\n",
       "    </tr>\n",
       "    <tr>\n",
       "      <th>2</th>\n",
       "      <td>John Holland</td>\n",
       "      <td>Boston Celtics</td>\n",
       "      <td>30</td>\n",
       "      <td>SG</td>\n",
       "      <td>27</td>\n",
       "      <td>06-May</td>\n",
       "      <td>205</td>\n",
       "      <td>Boston University</td>\n",
       "      <td>NaN</td>\n",
       "    </tr>\n",
       "    <tr>\n",
       "      <th>3</th>\n",
       "      <td>R.J. Hunter</td>\n",
       "      <td>Boston Celtics</td>\n",
       "      <td>28</td>\n",
       "      <td>SG</td>\n",
       "      <td>22</td>\n",
       "      <td>06-May</td>\n",
       "      <td>185</td>\n",
       "      <td>Georgia State</td>\n",
       "      <td>1148640.0</td>\n",
       "    </tr>\n",
       "    <tr>\n",
       "      <th>4</th>\n",
       "      <td>Jonas Jerebko</td>\n",
       "      <td>Boston Celtics</td>\n",
       "      <td>8</td>\n",
       "      <td>PF</td>\n",
       "      <td>29</td>\n",
       "      <td>06-Oct</td>\n",
       "      <td>231</td>\n",
       "      <td>NaN</td>\n",
       "      <td>5000000.0</td>\n",
       "    </tr>\n",
       "    <tr>\n",
       "      <th>...</th>\n",
       "      <td>...</td>\n",
       "      <td>...</td>\n",
       "      <td>...</td>\n",
       "      <td>...</td>\n",
       "      <td>...</td>\n",
       "      <td>...</td>\n",
       "      <td>...</td>\n",
       "      <td>...</td>\n",
       "      <td>...</td>\n",
       "    </tr>\n",
       "    <tr>\n",
       "      <th>453</th>\n",
       "      <td>Shelvin Mack</td>\n",
       "      <td>Utah Jazz</td>\n",
       "      <td>8</td>\n",
       "      <td>PG</td>\n",
       "      <td>26</td>\n",
       "      <td>06-Mar</td>\n",
       "      <td>203</td>\n",
       "      <td>Butler</td>\n",
       "      <td>2433333.0</td>\n",
       "    </tr>\n",
       "    <tr>\n",
       "      <th>454</th>\n",
       "      <td>Raul Neto</td>\n",
       "      <td>Utah Jazz</td>\n",
       "      <td>25</td>\n",
       "      <td>PG</td>\n",
       "      <td>24</td>\n",
       "      <td>06-Jan</td>\n",
       "      <td>179</td>\n",
       "      <td>NaN</td>\n",
       "      <td>900000.0</td>\n",
       "    </tr>\n",
       "    <tr>\n",
       "      <th>455</th>\n",
       "      <td>Tibor Pleiss</td>\n",
       "      <td>Utah Jazz</td>\n",
       "      <td>21</td>\n",
       "      <td>C</td>\n",
       "      <td>26</td>\n",
       "      <td>07-Mar</td>\n",
       "      <td>256</td>\n",
       "      <td>NaN</td>\n",
       "      <td>2900000.0</td>\n",
       "    </tr>\n",
       "    <tr>\n",
       "      <th>456</th>\n",
       "      <td>Jeff Withey</td>\n",
       "      <td>Utah Jazz</td>\n",
       "      <td>24</td>\n",
       "      <td>C</td>\n",
       "      <td>26</td>\n",
       "      <td>7-0</td>\n",
       "      <td>231</td>\n",
       "      <td>Kansas</td>\n",
       "      <td>947276.0</td>\n",
       "    </tr>\n",
       "    <tr>\n",
       "      <th>457</th>\n",
       "      <td>Priyanka</td>\n",
       "      <td>Utah Jazz</td>\n",
       "      <td>34</td>\n",
       "      <td>C</td>\n",
       "      <td>25</td>\n",
       "      <td>07-Mar</td>\n",
       "      <td>231</td>\n",
       "      <td>Kansas</td>\n",
       "      <td>947276.0</td>\n",
       "    </tr>\n",
       "  </tbody>\n",
       "</table>\n",
       "<p>458 rows × 9 columns</p>\n",
       "</div>"
      ],
      "text/plain": [
       "              Name            Team  Number Position  Age  Height  Weight  \\\n",
       "0    Avery Bradley  Boston Celtics       0       PG   25  06-Feb     180   \n",
       "1      Jae Crowder  Boston Celtics      99       SF   25  06-Jun     235   \n",
       "2     John Holland  Boston Celtics      30       SG   27  06-May     205   \n",
       "3      R.J. Hunter  Boston Celtics      28       SG   22  06-May     185   \n",
       "4    Jonas Jerebko  Boston Celtics       8       PF   29  06-Oct     231   \n",
       "..             ...             ...     ...      ...  ...     ...     ...   \n",
       "453   Shelvin Mack       Utah Jazz       8       PG   26  06-Mar     203   \n",
       "454      Raul Neto       Utah Jazz      25       PG   24  06-Jan     179   \n",
       "455   Tibor Pleiss       Utah Jazz      21        C   26  07-Mar     256   \n",
       "456    Jeff Withey       Utah Jazz      24        C   26     7-0     231   \n",
       "457       Priyanka       Utah Jazz      34        C   25  07-Mar     231   \n",
       "\n",
       "               College     Salary  \n",
       "0                Texas  7730337.0  \n",
       "1            Marquette  6796117.0  \n",
       "2    Boston University        NaN  \n",
       "3        Georgia State  1148640.0  \n",
       "4                  NaN  5000000.0  \n",
       "..                 ...        ...  \n",
       "453             Butler  2433333.0  \n",
       "454                NaN   900000.0  \n",
       "455                NaN  2900000.0  \n",
       "456             Kansas   947276.0  \n",
       "457             Kansas   947276.0  \n",
       "\n",
       "[458 rows x 9 columns]"
      ]
     },
     "execution_count": 2,
     "metadata": {},
     "output_type": "execute_result"
    }
   ],
   "source": [
    "data=pd.read_csv('newprojectdata.csv')\n",
    "data"
   ]
  },
  {
   "cell_type": "code",
   "execution_count": 3,
   "id": "b8302775",
   "metadata": {},
   "outputs": [
    {
     "name": "stdout",
     "output_type": "stream",
     "text": [
      "<class 'pandas.core.frame.DataFrame'>\n",
      "RangeIndex: 458 entries, 0 to 457\n",
      "Data columns (total 9 columns):\n",
      " #   Column    Non-Null Count  Dtype  \n",
      "---  ------    --------------  -----  \n",
      " 0   Name      458 non-null    object \n",
      " 1   Team      458 non-null    object \n",
      " 2   Number    458 non-null    int64  \n",
      " 3   Position  458 non-null    object \n",
      " 4   Age       458 non-null    int64  \n",
      " 5   Height    458 non-null    object \n",
      " 6   Weight    458 non-null    int64  \n",
      " 7   College   374 non-null    object \n",
      " 8   Salary    447 non-null    float64\n",
      "dtypes: float64(1), int64(3), object(5)\n",
      "memory usage: 32.3+ KB\n"
     ]
    }
   ],
   "source": [
    "data.info()"
   ]
  },
  {
   "cell_type": "code",
   "execution_count": 4,
   "id": "4824bf7e",
   "metadata": {},
   "outputs": [
    {
     "data": {
      "text/plain": [
       "4122"
      ]
     },
     "execution_count": 4,
     "metadata": {},
     "output_type": "execute_result"
    }
   ],
   "source": [
    "data.size"
   ]
  },
  {
   "cell_type": "code",
   "execution_count": 5,
   "id": "f203e258",
   "metadata": {},
   "outputs": [
    {
     "data": {
      "text/html": [
       "<div>\n",
       "<style scoped>\n",
       "    .dataframe tbody tr th:only-of-type {\n",
       "        vertical-align: middle;\n",
       "    }\n",
       "\n",
       "    .dataframe tbody tr th {\n",
       "        vertical-align: top;\n",
       "    }\n",
       "\n",
       "    .dataframe thead th {\n",
       "        text-align: right;\n",
       "    }\n",
       "</style>\n",
       "<table border=\"1\" class=\"dataframe\">\n",
       "  <thead>\n",
       "    <tr style=\"text-align: right;\">\n",
       "      <th></th>\n",
       "      <th>Name</th>\n",
       "      <th>Team</th>\n",
       "      <th>Number</th>\n",
       "      <th>Position</th>\n",
       "      <th>Age</th>\n",
       "      <th>Height</th>\n",
       "      <th>Weight</th>\n",
       "      <th>College</th>\n",
       "      <th>Salary</th>\n",
       "    </tr>\n",
       "  </thead>\n",
       "  <tbody>\n",
       "    <tr>\n",
       "      <th>count</th>\n",
       "      <td>458</td>\n",
       "      <td>458</td>\n",
       "      <td>458.000000</td>\n",
       "      <td>458</td>\n",
       "      <td>458.000000</td>\n",
       "      <td>458</td>\n",
       "      <td>458.000000</td>\n",
       "      <td>374</td>\n",
       "      <td>4.470000e+02</td>\n",
       "    </tr>\n",
       "    <tr>\n",
       "      <th>unique</th>\n",
       "      <td>458</td>\n",
       "      <td>30</td>\n",
       "      <td>NaN</td>\n",
       "      <td>5</td>\n",
       "      <td>NaN</td>\n",
       "      <td>18</td>\n",
       "      <td>NaN</td>\n",
       "      <td>118</td>\n",
       "      <td>NaN</td>\n",
       "    </tr>\n",
       "    <tr>\n",
       "      <th>top</th>\n",
       "      <td>Avery Bradley</td>\n",
       "      <td>New Orleans Pelicans</td>\n",
       "      <td>NaN</td>\n",
       "      <td>SG</td>\n",
       "      <td>NaN</td>\n",
       "      <td>06-Sep</td>\n",
       "      <td>NaN</td>\n",
       "      <td>Kentucky</td>\n",
       "      <td>NaN</td>\n",
       "    </tr>\n",
       "    <tr>\n",
       "      <th>freq</th>\n",
       "      <td>1</td>\n",
       "      <td>19</td>\n",
       "      <td>NaN</td>\n",
       "      <td>102</td>\n",
       "      <td>NaN</td>\n",
       "      <td>59</td>\n",
       "      <td>NaN</td>\n",
       "      <td>22</td>\n",
       "      <td>NaN</td>\n",
       "    </tr>\n",
       "    <tr>\n",
       "      <th>mean</th>\n",
       "      <td>NaN</td>\n",
       "      <td>NaN</td>\n",
       "      <td>17.713974</td>\n",
       "      <td>NaN</td>\n",
       "      <td>26.934498</td>\n",
       "      <td>NaN</td>\n",
       "      <td>221.543668</td>\n",
       "      <td>NaN</td>\n",
       "      <td>4.833970e+06</td>\n",
       "    </tr>\n",
       "    <tr>\n",
       "      <th>std</th>\n",
       "      <td>NaN</td>\n",
       "      <td>NaN</td>\n",
       "      <td>15.966837</td>\n",
       "      <td>NaN</td>\n",
       "      <td>4.400128</td>\n",
       "      <td>NaN</td>\n",
       "      <td>26.343200</td>\n",
       "      <td>NaN</td>\n",
       "      <td>5.226620e+06</td>\n",
       "    </tr>\n",
       "    <tr>\n",
       "      <th>min</th>\n",
       "      <td>NaN</td>\n",
       "      <td>NaN</td>\n",
       "      <td>0.000000</td>\n",
       "      <td>NaN</td>\n",
       "      <td>19.000000</td>\n",
       "      <td>NaN</td>\n",
       "      <td>161.000000</td>\n",
       "      <td>NaN</td>\n",
       "      <td>3.088800e+04</td>\n",
       "    </tr>\n",
       "    <tr>\n",
       "      <th>25%</th>\n",
       "      <td>NaN</td>\n",
       "      <td>NaN</td>\n",
       "      <td>5.000000</td>\n",
       "      <td>NaN</td>\n",
       "      <td>24.000000</td>\n",
       "      <td>NaN</td>\n",
       "      <td>200.000000</td>\n",
       "      <td>NaN</td>\n",
       "      <td>1.025210e+06</td>\n",
       "    </tr>\n",
       "    <tr>\n",
       "      <th>50%</th>\n",
       "      <td>NaN</td>\n",
       "      <td>NaN</td>\n",
       "      <td>13.000000</td>\n",
       "      <td>NaN</td>\n",
       "      <td>26.000000</td>\n",
       "      <td>NaN</td>\n",
       "      <td>220.000000</td>\n",
       "      <td>NaN</td>\n",
       "      <td>2.836186e+06</td>\n",
       "    </tr>\n",
       "    <tr>\n",
       "      <th>75%</th>\n",
       "      <td>NaN</td>\n",
       "      <td>NaN</td>\n",
       "      <td>25.000000</td>\n",
       "      <td>NaN</td>\n",
       "      <td>30.000000</td>\n",
       "      <td>NaN</td>\n",
       "      <td>240.000000</td>\n",
       "      <td>NaN</td>\n",
       "      <td>6.500000e+06</td>\n",
       "    </tr>\n",
       "    <tr>\n",
       "      <th>max</th>\n",
       "      <td>NaN</td>\n",
       "      <td>NaN</td>\n",
       "      <td>99.000000</td>\n",
       "      <td>NaN</td>\n",
       "      <td>40.000000</td>\n",
       "      <td>NaN</td>\n",
       "      <td>307.000000</td>\n",
       "      <td>NaN</td>\n",
       "      <td>2.500000e+07</td>\n",
       "    </tr>\n",
       "  </tbody>\n",
       "</table>\n",
       "</div>"
      ],
      "text/plain": [
       "                 Name                  Team      Number Position         Age  \\\n",
       "count             458                   458  458.000000      458  458.000000   \n",
       "unique            458                    30         NaN        5         NaN   \n",
       "top     Avery Bradley  New Orleans Pelicans         NaN       SG         NaN   \n",
       "freq                1                    19         NaN      102         NaN   \n",
       "mean              NaN                   NaN   17.713974      NaN   26.934498   \n",
       "std               NaN                   NaN   15.966837      NaN    4.400128   \n",
       "min               NaN                   NaN    0.000000      NaN   19.000000   \n",
       "25%               NaN                   NaN    5.000000      NaN   24.000000   \n",
       "50%               NaN                   NaN   13.000000      NaN   26.000000   \n",
       "75%               NaN                   NaN   25.000000      NaN   30.000000   \n",
       "max               NaN                   NaN   99.000000      NaN   40.000000   \n",
       "\n",
       "        Height      Weight   College        Salary  \n",
       "count      458  458.000000       374  4.470000e+02  \n",
       "unique      18         NaN       118           NaN  \n",
       "top     06-Sep         NaN  Kentucky           NaN  \n",
       "freq        59         NaN        22           NaN  \n",
       "mean       NaN  221.543668       NaN  4.833970e+06  \n",
       "std        NaN   26.343200       NaN  5.226620e+06  \n",
       "min        NaN  161.000000       NaN  3.088800e+04  \n",
       "25%        NaN  200.000000       NaN  1.025210e+06  \n",
       "50%        NaN  220.000000       NaN  2.836186e+06  \n",
       "75%        NaN  240.000000       NaN  6.500000e+06  \n",
       "max        NaN  307.000000       NaN  2.500000e+07  "
      ]
     },
     "execution_count": 5,
     "metadata": {},
     "output_type": "execute_result"
    }
   ],
   "source": [
    "data.describe(include=\"all\")"
   ]
  },
  {
   "cell_type": "code",
   "execution_count": 13,
   "id": "44177f66",
   "metadata": {},
   "outputs": [
    {
     "data": {
      "text/html": [
       "<div>\n",
       "<style scoped>\n",
       "    .dataframe tbody tr th:only-of-type {\n",
       "        vertical-align: middle;\n",
       "    }\n",
       "\n",
       "    .dataframe tbody tr th {\n",
       "        vertical-align: top;\n",
       "    }\n",
       "\n",
       "    .dataframe thead th {\n",
       "        text-align: right;\n",
       "    }\n",
       "</style>\n",
       "<table border=\"1\" class=\"dataframe\">\n",
       "  <thead>\n",
       "    <tr style=\"text-align: right;\">\n",
       "      <th></th>\n",
       "      <th>Name</th>\n",
       "      <th>Team</th>\n",
       "      <th>Number</th>\n",
       "      <th>Position</th>\n",
       "      <th>Age</th>\n",
       "      <th>Height</th>\n",
       "      <th>Weight</th>\n",
       "      <th>College</th>\n",
       "      <th>Salary</th>\n",
       "    </tr>\n",
       "  </thead>\n",
       "  <tbody>\n",
       "    <tr>\n",
       "      <th>0</th>\n",
       "      <td>Avery Bradley</td>\n",
       "      <td>Boston Celtics</td>\n",
       "      <td>0</td>\n",
       "      <td>PG</td>\n",
       "      <td>25</td>\n",
       "      <td>06-Feb</td>\n",
       "      <td>180</td>\n",
       "      <td>Texas</td>\n",
       "      <td>7730337.0</td>\n",
       "    </tr>\n",
       "    <tr>\n",
       "      <th>1</th>\n",
       "      <td>Jae Crowder</td>\n",
       "      <td>Boston Celtics</td>\n",
       "      <td>99</td>\n",
       "      <td>SF</td>\n",
       "      <td>25</td>\n",
       "      <td>06-Jun</td>\n",
       "      <td>235</td>\n",
       "      <td>Marquette</td>\n",
       "      <td>6796117.0</td>\n",
       "    </tr>\n",
       "    <tr>\n",
       "      <th>2</th>\n",
       "      <td>John Holland</td>\n",
       "      <td>Boston Celtics</td>\n",
       "      <td>30</td>\n",
       "      <td>SG</td>\n",
       "      <td>27</td>\n",
       "      <td>06-May</td>\n",
       "      <td>205</td>\n",
       "      <td>Boston University</td>\n",
       "      <td>NaN</td>\n",
       "    </tr>\n",
       "    <tr>\n",
       "      <th>3</th>\n",
       "      <td>R.J. Hunter</td>\n",
       "      <td>Boston Celtics</td>\n",
       "      <td>28</td>\n",
       "      <td>SG</td>\n",
       "      <td>22</td>\n",
       "      <td>06-May</td>\n",
       "      <td>185</td>\n",
       "      <td>Georgia State</td>\n",
       "      <td>1148640.0</td>\n",
       "    </tr>\n",
       "    <tr>\n",
       "      <th>4</th>\n",
       "      <td>Jonas Jerebko</td>\n",
       "      <td>Boston Celtics</td>\n",
       "      <td>8</td>\n",
       "      <td>PF</td>\n",
       "      <td>29</td>\n",
       "      <td>06-Oct</td>\n",
       "      <td>231</td>\n",
       "      <td>NaN</td>\n",
       "      <td>5000000.0</td>\n",
       "    </tr>\n",
       "  </tbody>\n",
       "</table>\n",
       "</div>"
      ],
      "text/plain": [
       "            Name            Team  Number Position  Age  Height  Weight  \\\n",
       "0  Avery Bradley  Boston Celtics       0       PG   25  06-Feb     180   \n",
       "1    Jae Crowder  Boston Celtics      99       SF   25  06-Jun     235   \n",
       "2   John Holland  Boston Celtics      30       SG   27  06-May     205   \n",
       "3    R.J. Hunter  Boston Celtics      28       SG   22  06-May     185   \n",
       "4  Jonas Jerebko  Boston Celtics       8       PF   29  06-Oct     231   \n",
       "\n",
       "             College     Salary  \n",
       "0              Texas  7730337.0  \n",
       "1          Marquette  6796117.0  \n",
       "2  Boston University        NaN  \n",
       "3      Georgia State  1148640.0  \n",
       "4                NaN  5000000.0  "
      ]
     },
     "execution_count": 13,
     "metadata": {},
     "output_type": "execute_result"
    }
   ],
   "source": [
    "data.head()"
   ]
  },
  {
   "cell_type": "code",
   "execution_count": 14,
   "id": "f7706360",
   "metadata": {},
   "outputs": [
    {
     "data": {
      "text/html": [
       "<div>\n",
       "<style scoped>\n",
       "    .dataframe tbody tr th:only-of-type {\n",
       "        vertical-align: middle;\n",
       "    }\n",
       "\n",
       "    .dataframe tbody tr th {\n",
       "        vertical-align: top;\n",
       "    }\n",
       "\n",
       "    .dataframe thead th {\n",
       "        text-align: right;\n",
       "    }\n",
       "</style>\n",
       "<table border=\"1\" class=\"dataframe\">\n",
       "  <thead>\n",
       "    <tr style=\"text-align: right;\">\n",
       "      <th></th>\n",
       "      <th>Name</th>\n",
       "      <th>Team</th>\n",
       "      <th>Number</th>\n",
       "      <th>Position</th>\n",
       "      <th>Age</th>\n",
       "      <th>Height</th>\n",
       "      <th>Weight</th>\n",
       "      <th>College</th>\n",
       "      <th>Salary</th>\n",
       "    </tr>\n",
       "  </thead>\n",
       "  <tbody>\n",
       "    <tr>\n",
       "      <th>453</th>\n",
       "      <td>Shelvin Mack</td>\n",
       "      <td>Utah Jazz</td>\n",
       "      <td>8</td>\n",
       "      <td>PG</td>\n",
       "      <td>26</td>\n",
       "      <td>06-Mar</td>\n",
       "      <td>203</td>\n",
       "      <td>Butler</td>\n",
       "      <td>2433333.0</td>\n",
       "    </tr>\n",
       "    <tr>\n",
       "      <th>454</th>\n",
       "      <td>Raul Neto</td>\n",
       "      <td>Utah Jazz</td>\n",
       "      <td>25</td>\n",
       "      <td>PG</td>\n",
       "      <td>24</td>\n",
       "      <td>06-Jan</td>\n",
       "      <td>179</td>\n",
       "      <td>NaN</td>\n",
       "      <td>900000.0</td>\n",
       "    </tr>\n",
       "    <tr>\n",
       "      <th>455</th>\n",
       "      <td>Tibor Pleiss</td>\n",
       "      <td>Utah Jazz</td>\n",
       "      <td>21</td>\n",
       "      <td>C</td>\n",
       "      <td>26</td>\n",
       "      <td>07-Mar</td>\n",
       "      <td>256</td>\n",
       "      <td>NaN</td>\n",
       "      <td>2900000.0</td>\n",
       "    </tr>\n",
       "    <tr>\n",
       "      <th>456</th>\n",
       "      <td>Jeff Withey</td>\n",
       "      <td>Utah Jazz</td>\n",
       "      <td>24</td>\n",
       "      <td>C</td>\n",
       "      <td>26</td>\n",
       "      <td>7-0</td>\n",
       "      <td>231</td>\n",
       "      <td>Kansas</td>\n",
       "      <td>947276.0</td>\n",
       "    </tr>\n",
       "    <tr>\n",
       "      <th>457</th>\n",
       "      <td>Priyanka</td>\n",
       "      <td>Utah Jazz</td>\n",
       "      <td>34</td>\n",
       "      <td>C</td>\n",
       "      <td>25</td>\n",
       "      <td>07-Mar</td>\n",
       "      <td>231</td>\n",
       "      <td>Kansas</td>\n",
       "      <td>947276.0</td>\n",
       "    </tr>\n",
       "  </tbody>\n",
       "</table>\n",
       "</div>"
      ],
      "text/plain": [
       "             Name       Team  Number Position  Age  Height  Weight College  \\\n",
       "453  Shelvin Mack  Utah Jazz       8       PG   26  06-Mar     203  Butler   \n",
       "454     Raul Neto  Utah Jazz      25       PG   24  06-Jan     179     NaN   \n",
       "455  Tibor Pleiss  Utah Jazz      21        C   26  07-Mar     256     NaN   \n",
       "456   Jeff Withey  Utah Jazz      24        C   26     7-0     231  Kansas   \n",
       "457      Priyanka  Utah Jazz      34        C   25  07-Mar     231  Kansas   \n",
       "\n",
       "        Salary  \n",
       "453  2433333.0  \n",
       "454   900000.0  \n",
       "455  2900000.0  \n",
       "456   947276.0  \n",
       "457   947276.0  "
      ]
     },
     "execution_count": 14,
     "metadata": {},
     "output_type": "execute_result"
    }
   ],
   "source": [
    "data.tail()"
   ]
  },
  {
   "cell_type": "code",
   "execution_count": 15,
   "id": "011b9ade",
   "metadata": {},
   "outputs": [
    {
     "data": {
      "text/plain": [
       "Index(['Name', 'Team', 'Number', 'Position', 'Age', 'Height', 'Weight',\n",
       "       'College', 'Salary'],\n",
       "      dtype='object')"
      ]
     },
     "execution_count": 15,
     "metadata": {},
     "output_type": "execute_result"
    }
   ],
   "source": [
    "data.columns"
   ]
  },
  {
   "cell_type": "code",
   "execution_count": 16,
   "id": "68d76cf0",
   "metadata": {},
   "outputs": [
    {
     "data": {
      "text/plain": [
       "array(['Boston Celtics', 'Brooklyn Nets', 'New York Knicks',\n",
       "       'Philadelphia 76ers', 'Toronto Raptors', 'Golden State Warriors',\n",
       "       'Los Angeles Clippers', 'Los Angeles Lakers', 'Phoenix Suns',\n",
       "       'Sacramento Kings', 'Chicago Bulls', 'Cleveland Cavaliers',\n",
       "       'Detroit Pistons', 'Indiana Pacers', 'Milwaukee Bucks',\n",
       "       'Dallas Mavericks', 'Houston Rockets', 'Memphis Grizzlies',\n",
       "       'New Orleans Pelicans', 'San Antonio Spurs', 'Atlanta Hawks',\n",
       "       'Charlotte Hornets', 'Miami Heat', 'Orlando Magic',\n",
       "       'Washington Wizards', 'Denver Nuggets', 'Minnesota Timberwolves',\n",
       "       'Oklahoma City Thunder', 'Portland Trail Blazers', 'Utah Jazz'],\n",
       "      dtype=object)"
      ]
     },
     "execution_count": 16,
     "metadata": {},
     "output_type": "execute_result"
    }
   ],
   "source": [
    "data.Team.unique()"
   ]
  },
  {
   "cell_type": "code",
   "execution_count": 17,
   "id": "a19e58e0",
   "metadata": {},
   "outputs": [
    {
     "data": {
      "text/plain": [
       "array(['PG', 'SF', 'SG', 'PF', 'C'], dtype=object)"
      ]
     },
     "execution_count": 17,
     "metadata": {},
     "output_type": "execute_result"
    }
   ],
   "source": [
    "data.Position.unique()"
   ]
  },
  {
   "cell_type": "code",
   "execution_count": 18,
   "id": "b17ff966",
   "metadata": {},
   "outputs": [
    {
     "data": {
      "text/plain": [
       "Position\n",
       "SG    102\n",
       "PF    100\n",
       "PG     92\n",
       "SF     85\n",
       "C      79\n",
       "Name: count, dtype: int64"
      ]
     },
     "execution_count": 18,
     "metadata": {},
     "output_type": "execute_result"
    }
   ],
   "source": [
    "p=data['Position'].value_counts()\n",
    "p"
   ]
  },
  {
   "cell_type": "markdown",
   "id": "5d27185b",
   "metadata": {},
   "source": [
    "1.how many are there in each team and the percentage splitting with respect to the total employees."
   ]
  },
  {
   "cell_type": "code",
   "execution_count": 3,
   "id": "b33c05b7",
   "metadata": {},
   "outputs": [
    {
     "data": {
      "text/plain": [
       "Team\n",
       "New Orleans Pelicans      4.148472\n",
       "Memphis Grizzlies         3.930131\n",
       "Utah Jazz                 3.493450\n",
       "New York Knicks           3.493450\n",
       "Milwaukee Bucks           3.493450\n",
       "Brooklyn Nets             3.275109\n",
       "Portland Trail Blazers    3.275109\n",
       "Oklahoma City Thunder     3.275109\n",
       "Denver Nuggets            3.275109\n",
       "Washington Wizards        3.275109\n",
       "Miami Heat                3.275109\n",
       "Charlotte Hornets         3.275109\n",
       "Atlanta Hawks             3.275109\n",
       "San Antonio Spurs         3.275109\n",
       "Houston Rockets           3.275109\n",
       "Boston Celtics            3.275109\n",
       "Indiana Pacers            3.275109\n",
       "Detroit Pistons           3.275109\n",
       "Cleveland Cavaliers       3.275109\n",
       "Chicago Bulls             3.275109\n",
       "Sacramento Kings          3.275109\n",
       "Phoenix Suns              3.275109\n",
       "Los Angeles Lakers        3.275109\n",
       "Los Angeles Clippers      3.275109\n",
       "Golden State Warriors     3.275109\n",
       "Toronto Raptors           3.275109\n",
       "Philadelphia 76ers        3.275109\n",
       "Dallas Mavericks          3.275109\n",
       "Orlando Magic             3.056769\n",
       "Minnesota Timberwolves    3.056769\n",
       "Name: count, dtype: float64"
      ]
     },
     "execution_count": 3,
     "metadata": {},
     "output_type": "execute_result"
    }
   ],
   "source": [
    "percentage=data['Team'].value_counts()/len(data)*100\n",
    "percentage"
   ]
  },
  {
   "cell_type": "markdown",
   "id": "2c48d2b8",
   "metadata": {},
   "source": [
    "2.seggregate employees with respect to different positions"
   ]
  },
  {
   "cell_type": "code",
   "execution_count": 16,
   "id": "06bc515c",
   "metadata": {},
   "outputs": [
    {
     "name": "stdout",
     "output_type": "stream",
     "text": [
      "Position: ('C',)\n",
      "                Name                    Team\n",
      "7       Kelly Olynyk          Boston Celtics\n",
      "10   Jared Sullinger          Boston Celtics\n",
      "14      Tyler Zeller          Boston Celtics\n",
      "23       Brook Lopez           Brooklyn Nets\n",
      "27        Henry Sims           Brooklyn Nets\n",
      "..               ...                     ...\n",
      "439    Mason Plumlee  Portland Trail Blazers\n",
      "447      Rudy Gobert               Utah Jazz\n",
      "455     Tibor Pleiss               Utah Jazz\n",
      "456      Jeff Withey               Utah Jazz\n",
      "457         Priyanka               Utah Jazz\n",
      "\n",
      "[79 rows x 2 columns]\n",
      "Position: ('PF',)\n",
      "                 Name                    Team\n",
      "4       Jonas Jerebko          Boston Celtics\n",
      "5        Amir Johnson          Boston Celtics\n",
      "6       Jordan Mickey          Boston Celtics\n",
      "24   Chris McCullough           Brooklyn Nets\n",
      "25        Willie Reed           Brooklyn Nets\n",
      "..                ...                     ...\n",
      "435    Meyers Leonard  Portland Trail Blazers\n",
      "441       Noah Vonleh  Portland Trail Blazers\n",
      "442     Trevor Booker               Utah Jazz\n",
      "446    Derrick Favors               Utah Jazz\n",
      "452        Trey Lyles               Utah Jazz\n",
      "\n",
      "[100 rows x 2 columns]\n",
      "Position: ('PG',)\n",
      "              Name                    Team\n",
      "0    Avery Bradley          Boston Celtics\n",
      "8     Terry Rozier          Boston Celtics\n",
      "9     Marcus Smart          Boston Celtics\n",
      "11   Isaiah Thomas          Boston Celtics\n",
      "19    Jarrett Jack           Brooklyn Nets\n",
      "..             ...                     ...\n",
      "440  Brian Roberts  Portland Trail Blazers\n",
      "443     Trey Burke               Utah Jazz\n",
      "445     Dante Exum               Utah Jazz\n",
      "453   Shelvin Mack               Utah Jazz\n",
      "454      Raul Neto               Utah Jazz\n",
      "\n",
      "[92 rows x 2 columns]\n",
      "Position: ('SF',)\n",
      "                       Name                    Team\n",
      "1               Jae Crowder          Boston Celtics\n",
      "32   Thanasis Antetokounmpo         New York Knicks\n",
      "33          Carmelo Anthony         New York Knicks\n",
      "35         Cleanthony Early         New York Knicks\n",
      "42             Lance Thomas         New York Knicks\n",
      "..                      ...                     ...\n",
      "428         Al-Farouq Aminu  Portland Trail Blazers\n",
      "432        Maurice Harkless  Portland Trail Blazers\n",
      "448          Gordon Hayward               Utah Jazz\n",
      "450              Joe Ingles               Utah Jazz\n",
      "451           Chris Johnson               Utah Jazz\n",
      "\n",
      "[85 rows x 2 columns]\n",
      "Position: ('SG',)\n",
      "                 Name                    Team\n",
      "2        John Holland          Boston Celtics\n",
      "3         R.J. Hunter          Boston Celtics\n",
      "12        Evan Turner          Boston Celtics\n",
      "13        James Young          Boston Celtics\n",
      "15   Bojan Bogdanovic           Brooklyn Nets\n",
      "..                ...                     ...\n",
      "433  Gerald Henderson  Portland Trail Blazers\n",
      "437     C.J. McCollum  Portland Trail Blazers\n",
      "438      Luis Montero  Portland Trail Blazers\n",
      "444        Alec Burks               Utah Jazz\n",
      "449       Rodney Hood               Utah Jazz\n",
      "\n",
      "[102 rows x 2 columns]\n"
     ]
    }
   ],
   "source": [
    "positionsGroup=data.groupby(['Position'])\n",
    "for position,position_data in positionsGroup:\n",
    "    print(f\"Position: {position}\")\n",
    "    print(position_data[['Name', 'Team',]]) "
   ]
  },
  {
   "cell_type": "code",
   "execution_count": null,
   "id": "ef002afe",
   "metadata": {},
   "outputs": [],
   "source": []
  },
  {
   "cell_type": "markdown",
   "id": "40662e62",
   "metadata": {},
   "source": [
    "3.Find from which age group most of the employees belong to."
   ]
  },
  {
   "cell_type": "code",
   "execution_count": 16,
   "id": "24266809",
   "metadata": {},
   "outputs": [
    {
     "data": {
      "text/plain": [
       "24"
      ]
     },
     "execution_count": 16,
     "metadata": {},
     "output_type": "execute_result"
    }
   ],
   "source": [
    "ageGroup=data['Age'].value_counts().idxmax()\n",
    "ageGroup\n"
   ]
  },
  {
   "cell_type": "markdown",
   "id": "ec83cd0f",
   "metadata": {},
   "source": [
    "4.Find out under which team and position, spending in terms of salary is high."
   ]
  },
  {
   "cell_type": "code",
   "execution_count": 11,
   "id": "5952fd3b",
   "metadata": {},
   "outputs": [
    {
     "name": "stdout",
     "output_type": "stream",
     "text": [
      "Team and position with highest spending ('Los Angeles Lakers', 'SF')\n"
     ]
    }
   ],
   "source": [
    "high_salary_team_position = data.groupby(['Team', 'Position'])['Salary'].sum().idxmax()\n",
    "print(f\"Team and position with highest spending {high_salary_team_position}\")"
   ]
  },
  {
   "cell_type": "code",
   "execution_count": 21,
   "id": "79391de8",
   "metadata": {},
   "outputs": [
    {
     "data": {
      "text/plain": [
       "0      154.792826\n",
       "1      175.562273\n",
       "2      167.477605\n",
       "3      176.872910\n",
       "4      176.750363\n",
       "          ...    \n",
       "453    175.705697\n",
       "454    179.666363\n",
       "455    174.715127\n",
       "456    168.867072\n",
       "457    157.099477\n",
       "Name: Height, Length: 458, dtype: float64"
      ]
     },
     "execution_count": 21,
     "metadata": {},
     "output_type": "execute_result"
    }
   ],
   "source": [
    "import numpy as np\n",
    "data['Height'] = np.random.uniform(150, 180, size=len(data))\n",
    "data['Height']"
   ]
  },
  {
   "cell_type": "code",
   "execution_count": 10,
   "id": "3b59d95a",
   "metadata": {},
   "outputs": [
    {
     "name": "stdout",
     "output_type": "stream",
     "text": [
      "corrilation is:0.21400941226570974\n"
     ]
    }
   ],
   "source": [
    "corrilation_coefficient=data['Age'].corr(data['Salary'])\n",
    "print(f\"corrilation is:{corrilation_coefficient}\")"
   ]
  },
  {
   "cell_type": "markdown",
   "id": "7181ac82",
   "metadata": {},
   "source": [
    "positive corrilation between Age and Salary"
   ]
  },
  {
   "cell_type": "markdown",
   "id": "42a8459b",
   "metadata": {},
   "source": [
    "5.5.Find if there is any correlation between age and salary , represent it visually."
   ]
  },
  {
   "cell_type": "code",
   "execution_count": 25,
   "id": "b9aa0b32",
   "metadata": {},
   "outputs": [
    {
     "data": {
      "image/png": "[encoded data removed]",
      "text/plain": [
       "<Figure size 640x480 with 1 Axes>"
      ]
     },
     "metadata": {},
     "output_type": "display_data"
    }
   ],
   "source": [
    "import seaborn as sns\n",
    "import matplotlib.pyplot as plt\n",
    "sns.scatterplot(x='Age', y='Salary', data=data)\n",
    "plt.title('Correlation between Age and Salary')\n",
    "plt.show()"
   ]
  },
  {
   "cell_type": "code",
   "execution_count": null,
   "id": "c2782f42",
   "metadata": {},
   "outputs": [],
   "source": []
  },
  {
   "cell_type": "code",
   "execution_count": null,
   "id": "e359d680",
   "metadata": {},
   "outputs": [],
   "source": []
  }
 ],
 "metadata": {
  "kernelspec": {
   "display_name": "Python 3 (ipykernel)",
   "language": "python",
   "name": "python3"
  },
  "language_info": {
   "codemirror_mode": {
    "name": "ipython",
    "version": 3
   },
   "file_extension": ".py",
   "mimetype": "text/x-python",
   "name": "python",
   "nbconvert_exporter": "python",
   "pygments_lexer": "ipython3",
   "version": "3.11.5"
  }
 },
 "nbformat": 4,
 "nbformat_minor": 5
}
